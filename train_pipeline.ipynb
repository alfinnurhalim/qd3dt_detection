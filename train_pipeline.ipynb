{
 "cells": [
  {
   "cell_type": "code",
   "execution_count": 1,
   "id": "2eb7cf64",
   "metadata": {},
   "outputs": [],
   "source": [
    "from torch_lib.Dataset import *\n",
    "from torch_lib.Model import Model, OrientationLoss\n",
    "\n",
    "\n",
    "import torch\n",
    "import torch.nn as nn\n",
    "from torch.autograd import Variable\n",
    "from torchvision.models import vgg\n",
    "from torch.utils import data"
   ]
  },
  {
   "cell_type": "code",
   "execution_count": 2,
   "id": "08c41245",
   "metadata": {},
   "outputs": [],
   "source": [
    "import os"
   ]
  },
  {
   "cell_type": "code",
   "execution_count": 3,
   "id": "619c677a",
   "metadata": {},
   "outputs": [],
   "source": [
    "train_path = os.path.join('dataset','20220528_qd3dt_Center_2k/KITTI/detection/training/')"
   ]
  },
  {
   "cell_type": "code",
   "execution_count": 4,
   "id": "12e1454a",
   "metadata": {},
   "outputs": [],
   "source": [
    "dataset = Dataset(train_path)"
   ]
  },
  {
   "cell_type": "code",
   "execution_count": 6,
   "id": "52cc49e0",
   "metadata": {},
   "outputs": [
    {
     "data": {
      "text/plain": [
       "{'Class': 'Car',\n",
       " 'Box_2D': [(322, 422), (434, 512)],\n",
       " 'Dimensions': array([ 0.1492714,  0.0942542, -0.1817304]),\n",
       " 'Alpha': 0.33,\n",
       " 'Orientation': array([[ 0.        ,  0.        ],\n",
       "        [ 0.32404303, -0.94604234]]),\n",
       " 'Confidence': array([0., 1.]),\n",
       " 'OrientationX': array([[-0.87461971, -0.48480962],\n",
       "        [ 0.87461971,  0.48480962]]),\n",
       " 'ConfidenceX': array([1., 1.]),\n",
       " 'OrientationY': array([[0.        , 0.        ],\n",
       "        [0.87461971, 0.48480962]]),\n",
       " 'ConfidenceY': array([0., 1.]),\n",
       " 'OrientationZ': array([[-0.75470958, -0.65605903],\n",
       "        [ 0.75470958,  0.65605903]]),\n",
       " 'ConfidenceZ': array([0., 1.]),\n",
       " 'rot': [-1.064650843716541, 5.218534463463046, -0.855211333477221]}"
      ]
     },
     "execution_count": 6,
     "metadata": {},
     "output_type": "execute_result"
    }
   ],
   "source": [
    "dataset.labels['000001']['0']"
   ]
  },
  {
   "cell_type": "code",
   "execution_count": 7,
   "id": "5c1fd80a",
   "metadata": {},
   "outputs": [],
   "source": [
    "attr = vars(dataset)"
   ]
  },
  {
   "cell_type": "code",
   "execution_count": 8,
   "id": "29e338a7",
   "metadata": {},
   "outputs": [
    {
     "name": "stdout",
     "output_type": "stream",
     "text": [
      "dict_keys(['top_label_path', 'top_img_path', 'top_calib_path', 'proj_matrix', 'ids', 'num_images', 'bins', 'angle_bins', 'interval', 'overlap', 'bin_ranges', 'averages', 'object_list', 'labels', 'curr_id', 'curr_img'])\n"
     ]
    }
   ],
   "source": [
    "print(attr.keys())"
   ]
  },
  {
   "cell_type": "code",
   "execution_count": 9,
   "id": "b96db9a4",
   "metadata": {},
   "outputs": [
    {
     "data": {
      "text/plain": [
       "array([0.36644973, 0.62636991, 0.27536507])"
      ]
     },
     "execution_count": 9,
     "metadata": {},
     "output_type": "execute_result"
    }
   ],
   "source": [
    "attr['averages'].get_item('Car')"
   ]
  },
  {
   "cell_type": "code",
   "execution_count": 8,
   "id": "8ce7b10c",
   "metadata": {},
   "outputs": [
    {
     "data": {
      "text/plain": [
       "array([[208.,   0., 512.,   0.],\n",
       "       [  0., 208., 512.,   0.],\n",
       "       [  0.,   0.,   1.,   0.]], dtype=float32)"
      ]
     },
     "execution_count": 8,
     "metadata": {},
     "output_type": "execute_result"
    }
   ],
   "source": [
    "attr['proj_matrix']"
   ]
  },
  {
   "cell_type": "code",
   "execution_count": 9,
   "id": "fcf5d336",
   "metadata": {},
   "outputs": [
    {
     "data": {
      "text/plain": [
       "array([[208.,   0., 512.,   0.],\n",
       "       [  0., 208., 512.,   0.],\n",
       "       [  0.,   0.,   1.,   0.]], dtype=float32)"
      ]
     },
     "execution_count": 9,
     "metadata": {},
     "output_type": "execute_result"
    }
   ],
   "source": [
    "attr['proj_matrix']"
   ]
  },
  {
   "cell_type": "code",
   "execution_count": null,
   "id": "216a387f",
   "metadata": {},
   "outputs": [],
   "source": []
  },
  {
   "cell_type": "code",
   "execution_count": 7,
   "id": "8ad86091",
   "metadata": {},
   "outputs": [],
   "source": [
    "epochs = 100\n",
    "batch_size = 64\n",
    "alpha = 0.6\n",
    "w = 0.4"
   ]
  },
  {
   "cell_type": "code",
   "execution_count": 8,
   "id": "770f4cf7",
   "metadata": {},
   "outputs": [],
   "source": [
    "params = {'batch_size': batch_size,\n",
    "          'shuffle': True,\n",
    "          'num_workers': 6}"
   ]
  },
  {
   "cell_type": "code",
   "execution_count": 9,
   "id": "908c3686",
   "metadata": {},
   "outputs": [],
   "source": [
    "generator = data.DataLoader(dataset, **params)"
   ]
  },
  {
   "cell_type": "code",
   "execution_count": 25,
   "id": "79a2d216",
   "metadata": {},
   "outputs": [
    {
     "data": {
      "text/plain": [
       "tensor([[[ 0.0000,  0.0000],\n",
       "         [ 0.2571, -0.9664]],\n",
       "\n",
       "        [[-0.0216, -0.9998],\n",
       "         [ 0.0216,  0.9998]],\n",
       "\n",
       "        [[ 0.0000,  0.0000],\n",
       "         [ 0.1708,  0.9853]],\n",
       "\n",
       "        [[ 0.0000,  0.0000],\n",
       "         [ 0.4350, -0.9004]],\n",
       "\n",
       "        [[-0.0899,  0.9960],\n",
       "         [ 0.0899, -0.9960]],\n",
       "\n",
       "        [[ 0.0000,  0.0000],\n",
       "         [ 0.2280, -0.9737]],\n",
       "\n",
       "        [[ 0.0000,  0.0000],\n",
       "         [ 0.3523, -0.9359]],\n",
       "\n",
       "        [[-0.0200,  0.9998],\n",
       "         [ 0.0200, -0.9998]],\n",
       "\n",
       "        [[ 0.0000,  0.0000],\n",
       "         [ 0.4364,  0.8998]],\n",
       "\n",
       "        [[ 0.0000,  0.0000],\n",
       "         [ 0.5810, -0.8139]],\n",
       "\n",
       "        [[ 0.0000,  0.0000],\n",
       "         [ 0.3523, -0.9359]],\n",
       "\n",
       "        [[-0.0316, -0.9995],\n",
       "         [ 0.0316,  0.9995]],\n",
       "\n",
       "        [[ 0.0000,  0.0000],\n",
       "         [ 0.5985,  0.8011]],\n",
       "\n",
       "        [[ 0.0000,  0.0000],\n",
       "         [ 0.2860, -0.9582]],\n",
       "\n",
       "        [[ 0.0000,  0.0000],\n",
       "         [ 0.4169, -0.9090]],\n",
       "\n",
       "        [[ 0.0000,  0.0000],\n",
       "         [ 0.3444,  0.9388]],\n",
       "\n",
       "        [[ 0.0000,  0.0000],\n",
       "         [ 0.2571, -0.9664]],\n",
       "\n",
       "        [[ 0.0000,  0.0000],\n",
       "         [ 0.5972, -0.8021]],\n",
       "\n",
       "        [[-0.0799,  0.9968],\n",
       "         [ 0.0799, -0.9968]],\n",
       "\n",
       "        [[ 0.0000,  0.0000],\n",
       "         [ 0.2779,  0.9606]],\n",
       "\n",
       "        [[-0.0799,  0.9968],\n",
       "         [ 0.0799, -0.9968]],\n",
       "\n",
       "        [[ 0.0000,  0.0000],\n",
       "         [ 0.8674, -0.4976]],\n",
       "\n",
       "        [[ 0.0000,  0.0000],\n",
       "         [ 0.3066,  0.9518]],\n",
       "\n",
       "        [[-0.0799,  0.9968],\n",
       "         [ 0.0799, -0.9968]],\n",
       "\n",
       "        [[ 0.0000,  0.0000],\n",
       "         [ 0.5410,  0.8410]],\n",
       "\n",
       "        [[ 0.0000,  0.0000],\n",
       "         [ 0.3161,  0.9487]],\n",
       "\n",
       "        [[ 0.0000,  0.0000],\n",
       "         [ 0.5227, -0.8525]],\n",
       "\n",
       "        [[ 0.0000,  0.0000],\n",
       "         [ 0.3986, -0.9171]],\n",
       "\n",
       "        [[-0.0316, -0.9995],\n",
       "         [ 0.0316,  0.9995]],\n",
       "\n",
       "        [[ 0.0000,  0.0000],\n",
       "         [ 0.3350,  0.9422]],\n",
       "\n",
       "        [[ 0.0000,  0.0000],\n",
       "         [ 0.5069,  0.8620]],\n",
       "\n",
       "        [[ 0.0000,  0.0000],\n",
       "         [ 0.4001,  0.9165]],\n",
       "\n",
       "        [[ 0.0000,  0.0000],\n",
       "         [ 0.3146, -0.9492]],\n",
       "\n",
       "        [[-0.0016, -1.0000],\n",
       "         [ 0.0016,  1.0000]],\n",
       "\n",
       "        [[ 0.0000,  0.0000],\n",
       "         [ 0.3255,  0.9455]],\n",
       "\n",
       "        [[ 0.0000,  0.0000],\n",
       "         [ 0.2280, -0.9737]],\n",
       "\n",
       "        [[ 0.0000,  0.0000],\n",
       "         [ 0.5325,  0.8464]],\n",
       "\n",
       "        [[ 0.0000,  0.0000],\n",
       "         [ 0.7895, -0.6137]],\n",
       "\n",
       "        [[ 0.0000,  0.0000],\n",
       "         [ 0.4169, -0.9090]],\n",
       "\n",
       "        [[ 0.0000,  0.0000],\n",
       "         [ 0.2764, -0.9611]],\n",
       "\n",
       "        [[-0.0400,  0.9992],\n",
       "         [ 0.0400, -0.9992]],\n",
       "\n",
       "        [[ 0.0000,  0.0000],\n",
       "         [ 0.5069,  0.8620]],\n",
       "\n",
       "        [[ 0.0000,  0.0000],\n",
       "         [ 0.3616, -0.9323]],\n",
       "\n",
       "        [[ 0.0000,  0.0000],\n",
       "         [ 0.2474, -0.9689]],\n",
       "\n",
       "        [[ 0.0000,  0.0000],\n",
       "         [ 0.4092,  0.9124]],\n",
       "\n",
       "        [[ 0.0000,  0.0000],\n",
       "         [ 0.1494, -0.9888]],\n",
       "\n",
       "        [[ 0.0000,  0.0000],\n",
       "         [ 0.5742,  0.8187]],\n",
       "\n",
       "        [[ 0.0000,  0.0000],\n",
       "         [ 0.5227, -0.8525]],\n",
       "\n",
       "        [[-0.0316, -0.9995],\n",
       "         [ 0.0316,  0.9995]],\n",
       "\n",
       "        [[ 0.0000,  0.0000],\n",
       "         [ 0.2377, -0.9713]],\n",
       "\n",
       "        [[ 0.0000,  0.0000],\n",
       "         [ 0.3538,  0.9353]],\n",
       "\n",
       "        [[ 0.0000,  0.0000],\n",
       "         [ 0.4632,  0.8863]],\n",
       "\n",
       "        [[ 0.0000,  0.0000],\n",
       "         [ 0.6131, -0.7900]],\n",
       "\n",
       "        [[ 0.0000,  0.0000],\n",
       "         [ 0.1014,  0.9948]],\n",
       "\n",
       "        [[ 0.0000,  0.0000],\n",
       "         [ 0.4454,  0.8953]],\n",
       "\n",
       "        [[ 0.0000,  0.0000],\n",
       "         [ 0.1692, -0.9856]],\n",
       "\n",
       "        [[-0.0200,  0.9998],\n",
       "         [ 0.0200, -0.9998]],\n",
       "\n",
       "        [[-0.0500,  0.9988],\n",
       "         [ 0.0500, -0.9988]],\n",
       "\n",
       "        [[ 0.0000,  0.0000],\n",
       "         [ 0.1296, -0.9916]],\n",
       "\n",
       "        [[ 0.0000,  0.0000],\n",
       "         [ 0.4350, -0.9004]],\n",
       "\n",
       "        [[ 0.0000,  0.0000],\n",
       "         [ 0.2377, -0.9713]],\n",
       "\n",
       "        [[-0.0516, -0.9987],\n",
       "         [ 0.0516,  0.9987]],\n",
       "\n",
       "        [[ 0.0000,  0.0000],\n",
       "         [ 0.5055, -0.8628]],\n",
       "\n",
       "        [[ 0.0000,  0.0000],\n",
       "         [ 0.1197, -0.9928]]], dtype=torch.float64)"
      ]
     },
     "execution_count": 25,
     "metadata": {},
     "output_type": "execute_result"
    }
   ],
   "source": [
    "next(iter(generator))[1]['Orientation']"
   ]
  },
  {
   "cell_type": "code",
   "execution_count": 27,
   "id": "a57fde67",
   "metadata": {},
   "outputs": [],
   "source": [
    "my_vgg = vgg.vgg19_bn(pretrained=True)\n",
    "model = Model(features=my_vgg.features).cuda()\n",
    "opt_SGD = torch.optim.SGD(model.parameters(), lr=0.0001, momentum=0.9)\n",
    "conf_loss_func = nn.CrossEntropyLoss().cuda()\n",
    "dim_loss_func = nn.MSELoss().cuda()\n",
    "orient_loss_func = OrientationLoss"
   ]
  },
  {
   "cell_type": "code",
   "execution_count": 28,
   "id": "2e0eead0",
   "metadata": {},
   "outputs": [],
   "source": [
    "model_path = os.path.join('weights/')\n",
    "latest_model = None\n",
    "first_epoch = 0"
   ]
  },
  {
   "cell_type": "code",
   "execution_count": 29,
   "id": "c25b394e",
   "metadata": {},
   "outputs": [],
   "source": [
    "total_num_batches = int(len(dataset) / batch_size)"
   ]
  },
  {
   "cell_type": "code",
   "execution_count": 30,
   "id": "329eafad",
   "metadata": {},
   "outputs": [
    {
     "data": {
      "text/plain": [
       "68"
      ]
     },
     "execution_count": 30,
     "metadata": {},
     "output_type": "execute_result"
    }
   ],
   "source": [
    "total_num_batches"
   ]
  },
  {
   "cell_type": "code",
   "execution_count": 35,
   "id": "e5302020",
   "metadata": {},
   "outputs": [
    {
     "name": "stdout",
     "output_type": "stream",
     "text": [
      "--- epoch 1 | batch 0/68 --- [loss: 0.5713] [loss_dim: 0.0249] [loss_orient: 0.5563]\n",
      "--- epoch 1 | batch 20/68 --- [loss: 0.5266] [loss_dim: 0.0207] [loss_orient: 0.5142]\n",
      "--- epoch 1 | batch 40/68 --- [loss: 0.5209] [loss_dim: 0.0222] [loss_orient: 0.5076]\n",
      "--- epoch 1 | batch 60/68 --- [loss: 0.4525] [loss_dim: 0.0208] [loss_orient: 0.44]\n",
      "--- epoch 2 | batch 0/68 --- [loss: 0.4939] [loss_dim: 0.0175] [loss_orient: 0.4834]\n",
      "--- epoch 2 | batch 20/68 --- [loss: 0.4049] [loss_dim: 0.0167] [loss_orient: 0.3949]\n",
      "--- epoch 2 | batch 40/68 --- [loss: 0.3974] [loss_dim: 0.0169] [loss_orient: 0.3873]\n",
      "--- epoch 2 | batch 60/68 --- [loss: 0.4153] [loss_dim: 0.0157] [loss_orient: 0.4059]\n",
      "--- epoch 3 | batch 0/68 --- [loss: 0.3513] [loss_dim: 0.0149] [loss_orient: 0.3423]\n",
      "--- epoch 3 | batch 20/68 --- [loss: 0.3099] [loss_dim: 0.015] [loss_orient: 0.3008]\n",
      "--- epoch 3 | batch 40/68 --- [loss: 0.3358] [loss_dim: 0.0125] [loss_orient: 0.3283]\n",
      "--- epoch 3 | batch 60/68 --- [loss: 0.2474] [loss_dim: 0.0113] [loss_orient: 0.2406]\n",
      "--- epoch 4 | batch 0/68 --- [loss: 0.2183] [loss_dim: 0.011] [loss_orient: 0.2117]\n",
      "--- epoch 4 | batch 20/68 --- [loss: 0.1752] [loss_dim: 0.0118] [loss_orient: 0.1681]\n",
      "--- epoch 4 | batch 40/68 --- [loss: 0.4267] [loss_dim: 0.0097] [loss_orient: 0.4209]\n",
      "--- epoch 4 | batch 60/68 --- [loss: 0.2385] [loss_dim: 0.0128] [loss_orient: 0.2308]\n",
      "--- epoch 5 | batch 0/68 --- [loss: 0.1015] [loss_dim: 0.0142] [loss_orient: 0.0929]\n",
      "--- epoch 5 | batch 20/68 --- [loss: 0.1675] [loss_dim: 0.0107] [loss_orient: 0.1611]\n",
      "--- epoch 5 | batch 40/68 --- [loss: 0.0611] [loss_dim: 0.0101] [loss_orient: 0.055]\n",
      "--- epoch 5 | batch 60/68 --- [loss: 0.0883] [loss_dim: 0.0091] [loss_orient: 0.0828]\n",
      "--- epoch 6 | batch 0/68 --- [loss: 0.185] [loss_dim: 0.0081] [loss_orient: 0.1801]\n",
      "--- epoch 6 | batch 20/68 --- [loss: 0.2537] [loss_dim: 0.0116] [loss_orient: 0.2468]\n",
      "--- epoch 6 | batch 40/68 --- [loss: 0.1183] [loss_dim: 0.0087] [loss_orient: 0.1131]\n",
      "--- epoch 6 | batch 60/68 --- [loss: 0.2434] [loss_dim: 0.0093] [loss_orient: 0.2378]\n",
      "--- epoch 7 | batch 0/68 --- [loss: 0.1156] [loss_dim: 0.0107] [loss_orient: 0.1092]\n",
      "--- epoch 7 | batch 20/68 --- [loss: 0.267] [loss_dim: 0.0092] [loss_orient: 0.2615]\n",
      "--- epoch 7 | batch 40/68 --- [loss: 0.1571] [loss_dim: 0.0085] [loss_orient: 0.1521]\n",
      "--- epoch 7 | batch 60/68 --- [loss: 0.1413] [loss_dim: 0.0095] [loss_orient: 0.1355]\n",
      "--- epoch 8 | batch 0/68 --- [loss: 0.1171] [loss_dim: 0.0074] [loss_orient: 0.1127]\n",
      "--- epoch 8 | batch 20/68 --- [loss: 0.261] [loss_dim: 0.0087] [loss_orient: 0.2558]\n",
      "--- epoch 8 | batch 40/68 --- [loss: 0.2457] [loss_dim: 0.0085] [loss_orient: 0.2406]\n",
      "--- epoch 8 | batch 60/68 --- [loss: 0.0653] [loss_dim: 0.0093] [loss_orient: 0.0597]\n",
      "--- epoch 9 | batch 0/68 --- [loss: 0.0237] [loss_dim: 0.0064] [loss_orient: 0.0199]\n",
      "--- epoch 9 | batch 20/68 --- [loss: 0.1043] [loss_dim: 0.0088] [loss_orient: 0.099]\n",
      "--- epoch 9 | batch 40/68 --- [loss: 0.319] [loss_dim: 0.0094] [loss_orient: 0.3133]\n",
      "--- epoch 9 | batch 60/68 --- [loss: 0.1454] [loss_dim: 0.0081] [loss_orient: 0.1405]\n",
      "--- epoch 10 | batch 0/68 --- [loss: 0.1202] [loss_dim: 0.0088] [loss_orient: 0.1149]\n",
      "--- epoch 10 | batch 20/68 --- [loss: 0.1437] [loss_dim: 0.0088] [loss_orient: 0.1384]\n",
      "--- epoch 10 | batch 40/68 --- [loss: 0.056] [loss_dim: 0.0089] [loss_orient: 0.0506]\n",
      "--- epoch 10 | batch 60/68 --- [loss: 0.0445] [loss_dim: 0.0085] [loss_orient: 0.0394]\n",
      "====================\n",
      "Done with epoch 10!\n",
      "Saving weights as weights/epoch_10.pkl ...\n",
      "====================\n",
      "--- epoch 11 | batch 0/68 --- [loss: -0.0215] [loss_dim: 0.0087] [loss_orient: -0.0267]\n",
      "--- epoch 11 | batch 20/68 --- [loss: -0.0331] [loss_dim: 0.0075] [loss_orient: -0.0376]\n",
      "--- epoch 11 | batch 40/68 --- [loss: 0.1219] [loss_dim: 0.0087] [loss_orient: 0.1167]\n",
      "--- epoch 11 | batch 60/68 --- [loss: 0.0043] [loss_dim: 0.0089] [loss_orient: -0.001]\n",
      "--- epoch 12 | batch 0/68 --- [loss: 0.0969] [loss_dim: 0.0069] [loss_orient: 0.0927]\n",
      "--- epoch 12 | batch 20/68 --- [loss: -0.0002] [loss_dim: 0.0079] [loss_orient: -0.0049]\n",
      "--- epoch 12 | batch 40/68 --- [loss: 0.1247] [loss_dim: 0.008] [loss_orient: 0.1199]\n",
      "--- epoch 12 | batch 60/68 --- [loss: 0.1216] [loss_dim: 0.0078] [loss_orient: 0.1169]\n",
      "--- epoch 13 | batch 0/68 --- [loss: 0.0061] [loss_dim: 0.0079] [loss_orient: 0.0014]\n",
      "--- epoch 13 | batch 20/68 --- [loss: -0.0016] [loss_dim: 0.0088] [loss_orient: -0.0069]\n",
      "--- epoch 13 | batch 40/68 --- [loss: 0.0221] [loss_dim: 0.0077] [loss_orient: 0.0175]\n",
      "--- epoch 13 | batch 60/68 --- [loss: 0.0359] [loss_dim: 0.0081] [loss_orient: 0.031]\n",
      "--- epoch 14 | batch 0/68 --- [loss: -0.0252] [loss_dim: 0.0074] [loss_orient: -0.0296]\n"
     ]
    },
    {
     "ename": "KeyboardInterrupt",
     "evalue": "",
     "output_type": "error",
     "traceback": [
      "\u001b[0;31m---------------------------------------------------------------------------\u001b[0m",
      "\u001b[0;31mKeyboardInterrupt\u001b[0m                         Traceback (most recent call last)",
      "\u001b[0;32m/tmp/ipykernel_8220/3723312220.py\u001b[0m in \u001b[0;36m<module>\u001b[0;34m\u001b[0m\n\u001b[1;32m      4\u001b[0m     \u001b[0;32mfor\u001b[0m \u001b[0mlocal_batch\u001b[0m\u001b[0;34m,\u001b[0m \u001b[0mlocal_labels\u001b[0m \u001b[0;32min\u001b[0m \u001b[0mgenerator\u001b[0m\u001b[0;34m:\u001b[0m\u001b[0;34m\u001b[0m\u001b[0;34m\u001b[0m\u001b[0m\n\u001b[1;32m      5\u001b[0m \u001b[0;34m\u001b[0m\u001b[0m\n\u001b[0;32m----> 6\u001b[0;31m         \u001b[0mtruth_orient\u001b[0m \u001b[0;34m=\u001b[0m \u001b[0mlocal_labels\u001b[0m\u001b[0;34m[\u001b[0m\u001b[0;34m'Orientation'\u001b[0m\u001b[0;34m]\u001b[0m\u001b[0;34m.\u001b[0m\u001b[0mfloat\u001b[0m\u001b[0;34m(\u001b[0m\u001b[0;34m)\u001b[0m\u001b[0;34m.\u001b[0m\u001b[0mcuda\u001b[0m\u001b[0;34m(\u001b[0m\u001b[0;34m)\u001b[0m\u001b[0;34m\u001b[0m\u001b[0;34m\u001b[0m\u001b[0m\n\u001b[0m\u001b[1;32m      7\u001b[0m         \u001b[0mtruth_conf\u001b[0m \u001b[0;34m=\u001b[0m \u001b[0mlocal_labels\u001b[0m\u001b[0;34m[\u001b[0m\u001b[0;34m'Confidence'\u001b[0m\u001b[0;34m]\u001b[0m\u001b[0;34m.\u001b[0m\u001b[0mlong\u001b[0m\u001b[0;34m(\u001b[0m\u001b[0;34m)\u001b[0m\u001b[0;34m.\u001b[0m\u001b[0mcuda\u001b[0m\u001b[0;34m(\u001b[0m\u001b[0;34m)\u001b[0m\u001b[0;34m\u001b[0m\u001b[0;34m\u001b[0m\u001b[0m\n\u001b[1;32m      8\u001b[0m         \u001b[0mtruth_dim\u001b[0m \u001b[0;34m=\u001b[0m \u001b[0mlocal_labels\u001b[0m\u001b[0;34m[\u001b[0m\u001b[0;34m'Dimensions'\u001b[0m\u001b[0;34m]\u001b[0m\u001b[0;34m.\u001b[0m\u001b[0mfloat\u001b[0m\u001b[0;34m(\u001b[0m\u001b[0;34m)\u001b[0m\u001b[0;34m.\u001b[0m\u001b[0mcuda\u001b[0m\u001b[0;34m(\u001b[0m\u001b[0;34m)\u001b[0m\u001b[0;34m\u001b[0m\u001b[0;34m\u001b[0m\u001b[0m\n",
      "\u001b[0;31mKeyboardInterrupt\u001b[0m: "
     ]
    }
   ],
   "source": [
    "for epoch in range(first_epoch+1, epochs+1):\n",
    "    curr_batch = 0\n",
    "    passes = 0\n",
    "    for local_batch, local_labels in generator:\n",
    "\n",
    "        truth_orient = local_labels['Orientation'].float().cuda()\n",
    "        truth_conf = local_labels['Confidence'].long().cuda()\n",
    "        truth_dim = local_labels['Dimensions'].float().cuda()\n",
    "\n",
    "        local_batch=local_batch.float().cuda()\n",
    "        [orient, conf, dim] = model(local_batch)\n",
    "\n",
    "        orient_loss = orient_loss_func(orient, truth_orient, truth_conf)\n",
    "        dim_loss = dim_loss_func(dim, truth_dim)\n",
    "\n",
    "        truth_conf = torch.max(truth_conf, dim=1)[1]\n",
    "        conf_loss = conf_loss_func(conf, truth_conf)\n",
    "\n",
    "        loss_theta = conf_loss + w * orient_loss\n",
    "        loss = alpha * dim_loss + loss_theta\n",
    "\n",
    "        opt_SGD.zero_grad()\n",
    "        loss.backward()\n",
    "        opt_SGD.step()\n",
    "\n",
    "\n",
    "        if passes % 20 == 0:\n",
    "            print(\"--- epoch %s | batch %s/%s --- [loss: %s] [loss_dim: %s] [loss_orient: %s]\" \\\n",
    "                  %(epoch, curr_batch, total_num_batches, round(loss.item(),4),round(dim_loss.item(),4),round(loss_theta.item(),4)))\n",
    "            passes = 0\n",
    "\n",
    "        passes += 1\n",
    "        curr_batch += 1\n",
    "\n",
    "    # save after every 10 epochs\n",
    "    if epoch % 10 == 0:\n",
    "        name = model_path + 'epoch_%s.pkl' % epoch\n",
    "        print(\"====================\")\n",
    "        print (\"Done with epoch %s!\" % epoch)\n",
    "        print (\"Saving weights as %s ...\" % name)\n",
    "        torch.save({\n",
    "                'epoch': epoch,\n",
    "                'model_state_dict': model.state_dict(),\n",
    "                'optimizer_state_dict': opt_SGD.state_dict(),\n",
    "                'loss': loss\n",
    "                }, name)\n",
    "        print(\"====================\")"
   ]
  },
  {
   "cell_type": "code",
   "execution_count": null,
   "id": "4941580c",
   "metadata": {},
   "outputs": [],
   "source": []
  }
 ],
 "metadata": {
  "kernelspec": {
   "display_name": "Python 3",
   "language": "python",
   "name": "python3"
  },
  "language_info": {
   "codemirror_mode": {
    "name": "ipython",
    "version": 3
   },
   "file_extension": ".py",
   "mimetype": "text/x-python",
   "name": "python",
   "nbconvert_exporter": "python",
   "pygments_lexer": "ipython3",
   "version": "3.8.12"
  }
 },
 "nbformat": 4,
 "nbformat_minor": 5
}
