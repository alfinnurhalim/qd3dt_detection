{
 "cells": [
  {
   "cell_type": "code",
   "execution_count": 1,
   "id": "2eb7cf64",
   "metadata": {},
   "outputs": [],
   "source": [
    "from torch_lib.Dataset import *\n",
    "from torch_lib.Model import Model, OrientationLoss\n",
    "\n",
    "\n",
    "import torch\n",
    "import torch.nn as nn\n",
    "from torch.autograd import Variable\n",
    "from torchvision.models import vgg\n",
    "from torch.utils import data"
   ]
  },
  {
   "cell_type": "code",
   "execution_count": 2,
   "id": "08c41245",
   "metadata": {},
   "outputs": [],
   "source": [
    "import os"
   ]
  },
  {
   "cell_type": "code",
   "execution_count": 3,
   "id": "619c677a",
   "metadata": {},
   "outputs": [],
   "source": [
    "train_path = os.path.join('dataset','20220428_qd3dt_1024')"
   ]
  },
  {
   "cell_type": "code",
   "execution_count": 4,
   "id": "12e1454a",
   "metadata": {},
   "outputs": [],
   "source": [
    "dataset = Dataset(train_path)"
   ]
  },
  {
   "cell_type": "code",
   "execution_count": 5,
   "id": "5c1fd80a",
   "metadata": {},
   "outputs": [],
   "source": [
    "attr = vars(dataset)"
   ]
  },
  {
   "cell_type": "code",
   "execution_count": 6,
   "id": "29e338a7",
   "metadata": {},
   "outputs": [
    {
     "name": "stdout",
     "output_type": "stream",
     "text": [
      "dict_keys(['top_label_path', 'top_img_path', 'top_calib_path', 'proj_matrix', 'ids', 'num_images', 'bins', 'angle_bins', 'interval', 'overlap', 'bin_ranges', 'averages', 'object_list', 'labels', 'curr_id', 'curr_img'])\n"
     ]
    }
   ],
   "source": [
    "print(attr.keys())"
   ]
  },
  {
   "cell_type": "code",
   "execution_count": 7,
   "id": "b96db9a4",
   "metadata": {},
   "outputs": [
    {
     "data": {
      "text/plain": [
       "array([0.63047619, 0.27809524, 0.24380952])"
      ]
     },
     "execution_count": 7,
     "metadata": {},
     "output_type": "execute_result"
    }
   ],
   "source": [
    "attr['averages'].get_item('Car')"
   ]
  },
  {
   "cell_type": "code",
   "execution_count": 8,
   "id": "8ce7b10c",
   "metadata": {},
   "outputs": [
    {
     "data": {
      "text/plain": [
       "array([[208.,   0., 512.,   0.],\n",
       "       [  0., 208., 512.,   0.],\n",
       "       [  0.,   0.,   1.,   0.]], dtype=float32)"
      ]
     },
     "execution_count": 8,
     "metadata": {},
     "output_type": "execute_result"
    }
   ],
   "source": [
    "attr['proj_matrix']"
   ]
  },
  {
   "cell_type": "code",
   "execution_count": 9,
   "id": "fcf5d336",
   "metadata": {},
   "outputs": [
    {
     "data": {
      "text/plain": [
       "array([[208.,   0., 512.,   0.],\n",
       "       [  0., 208., 512.,   0.],\n",
       "       [  0.,   0.,   1.,   0.]], dtype=float32)"
      ]
     },
     "execution_count": 9,
     "metadata": {},
     "output_type": "execute_result"
    }
   ],
   "source": [
    "attr['proj_matrix']"
   ]
  },
  {
   "cell_type": "code",
   "execution_count": null,
   "id": "216a387f",
   "metadata": {},
   "outputs": [],
   "source": []
  },
  {
   "cell_type": "code",
   "execution_count": 10,
   "id": "8ad86091",
   "metadata": {},
   "outputs": [],
   "source": [
    "epochs = 100\n",
    "batch_size = 64\n",
    "alpha = 0.6\n",
    "w = 0.4"
   ]
  },
  {
   "cell_type": "code",
   "execution_count": 11,
   "id": "770f4cf7",
   "metadata": {},
   "outputs": [],
   "source": [
    "params = {'batch_size': batch_size,\n",
    "          'shuffle': True,\n",
    "          'num_workers': 6}"
   ]
  },
  {
   "cell_type": "code",
   "execution_count": 12,
   "id": "908c3686",
   "metadata": {},
   "outputs": [],
   "source": [
    "generator = data.DataLoader(dataset, **params)"
   ]
  },
  {
   "cell_type": "code",
   "execution_count": 13,
   "id": "a57fde67",
   "metadata": {},
   "outputs": [],
   "source": [
    "my_vgg = vgg.vgg19_bn(pretrained=True)\n",
    "model = Model(features=my_vgg.features).cuda()\n",
    "opt_SGD = torch.optim.SGD(model.parameters(), lr=0.0001, momentum=0.9)\n",
    "conf_loss_func = nn.CrossEntropyLoss().cuda()\n",
    "dim_loss_func = nn.MSELoss().cuda()\n",
    "orient_loss_func = OrientationLoss"
   ]
  },
  {
   "cell_type": "code",
   "execution_count": 14,
   "id": "2e0eead0",
   "metadata": {},
   "outputs": [],
   "source": [
    "model_path = os.path.join('weights/')\n",
    "latest_model = None\n",
    "first_epoch = 0"
   ]
  },
  {
   "cell_type": "code",
   "execution_count": 15,
   "id": "c25b394e",
   "metadata": {},
   "outputs": [],
   "source": [
    "total_num_batches = int(len(dataset) / batch_size)"
   ]
  },
  {
   "cell_type": "code",
   "execution_count": 16,
   "id": "329eafad",
   "metadata": {},
   "outputs": [
    {
     "data": {
      "text/plain": [
       "98"
      ]
     },
     "execution_count": 16,
     "metadata": {},
     "output_type": "execute_result"
    }
   ],
   "source": [
    "total_num_batches"
   ]
  },
  {
   "cell_type": "code",
   "execution_count": 17,
   "id": "e5302020",
   "metadata": {},
   "outputs": [
    {
     "name": "stdout",
     "output_type": "stream",
     "text": [
      "--- epoch 1 | batch 0/98 --- [loss: 0.667971134185791]\n",
      "--- epoch 1 | batch 20/98 --- [loss: 0.5073529481887817]\n",
      "--- epoch 1 | batch 40/98 --- [loss: 0.4124372899532318]\n",
      "--- epoch 1 | batch 60/98 --- [loss: 0.3846319913864136]\n",
      "--- epoch 1 | batch 80/98 --- [loss: 0.3505670428276062]\n",
      "--- epoch 2 | batch 0/98 --- [loss: 0.3280717134475708]\n",
      "--- epoch 2 | batch 20/98 --- [loss: 0.22336970269680023]\n",
      "--- epoch 2 | batch 40/98 --- [loss: 0.3210889995098114]\n",
      "--- epoch 2 | batch 60/98 --- [loss: 0.2490725964307785]\n",
      "--- epoch 2 | batch 80/98 --- [loss: 0.27617666125297546]\n",
      "--- epoch 3 | batch 0/98 --- [loss: 0.19477112591266632]\n",
      "--- epoch 3 | batch 20/98 --- [loss: 0.29385945200920105]\n",
      "--- epoch 3 | batch 40/98 --- [loss: 0.33657386898994446]\n",
      "--- epoch 3 | batch 60/98 --- [loss: 0.3348689377307892]\n",
      "--- epoch 3 | batch 80/98 --- [loss: 0.2693672180175781]\n",
      "--- epoch 4 | batch 0/98 --- [loss: 0.1744297444820404]\n",
      "--- epoch 4 | batch 20/98 --- [loss: 0.3275681138038635]\n",
      "--- epoch 4 | batch 40/98 --- [loss: 0.28912845253944397]\n",
      "--- epoch 4 | batch 60/98 --- [loss: 0.11076755076646805]\n",
      "--- epoch 4 | batch 80/98 --- [loss: 0.060844581574201584]\n",
      "--- epoch 5 | batch 0/98 --- [loss: 0.1731545329093933]\n",
      "--- epoch 5 | batch 20/98 --- [loss: 0.28987789154052734]\n",
      "--- epoch 5 | batch 40/98 --- [loss: 0.2127062976360321]\n",
      "--- epoch 5 | batch 60/98 --- [loss: 0.3552943766117096]\n",
      "--- epoch 5 | batch 80/98 --- [loss: 0.13058508932590485]\n",
      "--- epoch 6 | batch 0/98 --- [loss: 0.13449008762836456]\n",
      "--- epoch 6 | batch 20/98 --- [loss: 0.22319108247756958]\n",
      "--- epoch 6 | batch 40/98 --- [loss: 0.20906461775302887]\n",
      "--- epoch 6 | batch 60/98 --- [loss: 0.1471278816461563]\n",
      "--- epoch 6 | batch 80/98 --- [loss: 0.1415243148803711]\n",
      "--- epoch 7 | batch 0/98 --- [loss: 0.2354678213596344]\n",
      "--- epoch 7 | batch 20/98 --- [loss: 0.22236786782741547]\n",
      "--- epoch 7 | batch 40/98 --- [loss: -0.014179857447743416]\n",
      "--- epoch 7 | batch 60/98 --- [loss: 0.15370778739452362]\n",
      "--- epoch 7 | batch 80/98 --- [loss: 0.10481845587491989]\n",
      "--- epoch 8 | batch 0/98 --- [loss: -0.012514486908912659]\n",
      "--- epoch 8 | batch 20/98 --- [loss: 0.18980608880519867]\n",
      "--- epoch 8 | batch 40/98 --- [loss: 0.16036558151245117]\n",
      "--- epoch 8 | batch 60/98 --- [loss: 0.17060740292072296]\n",
      "--- epoch 8 | batch 80/98 --- [loss: 0.3119717240333557]\n",
      "--- epoch 9 | batch 0/98 --- [loss: 0.19820383191108704]\n",
      "--- epoch 9 | batch 20/98 --- [loss: 0.17829419672489166]\n",
      "--- epoch 9 | batch 40/98 --- [loss: 0.3031872808933258]\n",
      "--- epoch 9 | batch 60/98 --- [loss: 0.015410836786031723]\n",
      "--- epoch 9 | batch 80/98 --- [loss: -0.05244261026382446]\n",
      "--- epoch 10 | batch 0/98 --- [loss: 0.10581252723932266]\n",
      "--- epoch 10 | batch 20/98 --- [loss: 0.12876905500888824]\n",
      "--- epoch 10 | batch 40/98 --- [loss: 0.2677307724952698]\n",
      "--- epoch 10 | batch 60/98 --- [loss: 0.061835791915655136]\n",
      "--- epoch 10 | batch 80/98 --- [loss: 0.26960694789886475]\n",
      "====================\n",
      "Done with epoch 10!\n",
      "Saving weights as weightsepoch_10.pkl ...\n",
      "====================\n",
      "--- epoch 11 | batch 0/98 --- [loss: 0.050809476524591446]\n",
      "--- epoch 11 | batch 20/98 --- [loss: 0.04765872284770012]\n",
      "--- epoch 11 | batch 40/98 --- [loss: 0.17622524499893188]\n",
      "--- epoch 11 | batch 60/98 --- [loss: 0.3028353452682495]\n",
      "--- epoch 11 | batch 80/98 --- [loss: 0.12451386451721191]\n",
      "--- epoch 12 | batch 0/98 --- [loss: 0.13109099864959717]\n",
      "--- epoch 12 | batch 20/98 --- [loss: 0.1014976054430008]\n"
     ]
    },
    {
     "name": "stderr",
     "output_type": "stream",
     "text": [
      "Traceback (most recent call last):\n",
      "  File \"/home/alfin/.conda/envs/monodle/lib/python3.8/multiprocessing/queues.py\", line 245, in _feed\n",
      "    send_bytes(obj)\n",
      "  File \"/home/alfin/.conda/envs/monodle/lib/python3.8/multiprocessing/connection.py\", line 200, in send_bytes\n",
      "    self._send_bytes(m[offset:offset + size])\n",
      "  File \"/home/alfin/.conda/envs/monodle/lib/python3.8/multiprocessing/connection.py\", line 411, in _send_bytes\n",
      "    self._send(header + buf)\n",
      "  File \"/home/alfin/.conda/envs/monodle/lib/python3.8/multiprocessing/connection.py\", line 368, in _send\n",
      "    n = write(self._handle, buf)\n",
      "BrokenPipeError: [Errno 32] Broken pipe\n",
      "Traceback (most recent call last):\n",
      "  File \"/home/alfin/.conda/envs/monodle/lib/python3.8/multiprocessing/queues.py\", line 245, in _feed\n",
      "    send_bytes(obj)\n",
      "  File \"/home/alfin/.conda/envs/monodle/lib/python3.8/multiprocessing/connection.py\", line 200, in send_bytes\n",
      "    self._send_bytes(m[offset:offset + size])\n",
      "  File \"/home/alfin/.conda/envs/monodle/lib/python3.8/multiprocessing/connection.py\", line 411, in _send_bytes\n",
      "    self._send(header + buf)\n",
      "  File \"/home/alfin/.conda/envs/monodle/lib/python3.8/multiprocessing/connection.py\", line 368, in _send\n",
      "    n = write(self._handle, buf)\n",
      "BrokenPipeError: [Errno 32] Broken pipe\n"
     ]
    },
    {
     "ename": "KeyboardInterrupt",
     "evalue": "",
     "output_type": "error",
     "traceback": [
      "\u001b[0;31m---------------------------------------------------------------------------\u001b[0m",
      "\u001b[0;31mKeyboardInterrupt\u001b[0m                         Traceback (most recent call last)",
      "\u001b[0;32m/tmp/ipykernel_5641/2349346628.py\u001b[0m in \u001b[0;36m<module>\u001b[0;34m\u001b[0m\n\u001b[1;32m     11\u001b[0m         \u001b[0;34m[\u001b[0m\u001b[0morient\u001b[0m\u001b[0;34m,\u001b[0m \u001b[0mconf\u001b[0m\u001b[0;34m,\u001b[0m \u001b[0mdim\u001b[0m\u001b[0;34m]\u001b[0m \u001b[0;34m=\u001b[0m \u001b[0mmodel\u001b[0m\u001b[0;34m(\u001b[0m\u001b[0mlocal_batch\u001b[0m\u001b[0;34m)\u001b[0m\u001b[0;34m\u001b[0m\u001b[0;34m\u001b[0m\u001b[0m\n\u001b[1;32m     12\u001b[0m \u001b[0;34m\u001b[0m\u001b[0m\n\u001b[0;32m---> 13\u001b[0;31m         \u001b[0morient_loss\u001b[0m \u001b[0;34m=\u001b[0m \u001b[0morient_loss_func\u001b[0m\u001b[0;34m(\u001b[0m\u001b[0morient\u001b[0m\u001b[0;34m,\u001b[0m \u001b[0mtruth_orient\u001b[0m\u001b[0;34m,\u001b[0m \u001b[0mtruth_conf\u001b[0m\u001b[0;34m)\u001b[0m\u001b[0;34m\u001b[0m\u001b[0;34m\u001b[0m\u001b[0m\n\u001b[0m\u001b[1;32m     14\u001b[0m         \u001b[0mdim_loss\u001b[0m \u001b[0;34m=\u001b[0m \u001b[0mdim_loss_func\u001b[0m\u001b[0;34m(\u001b[0m\u001b[0mdim\u001b[0m\u001b[0;34m,\u001b[0m \u001b[0mtruth_dim\u001b[0m\u001b[0;34m)\u001b[0m\u001b[0;34m\u001b[0m\u001b[0;34m\u001b[0m\u001b[0m\n\u001b[1;32m     15\u001b[0m \u001b[0;34m\u001b[0m\u001b[0m\n",
      "\u001b[0;32m~/Documents/deep_learning/qd3dt_detection/torch_lib/Model.py\u001b[0m in \u001b[0;36mOrientationLoss\u001b[0;34m(orient_batch, orientGT_batch, confGT_batch)\u001b[0m\n\u001b[1;32m     12\u001b[0m \u001b[0;34m\u001b[0m\u001b[0m\n\u001b[1;32m     13\u001b[0m     \u001b[0;31m# extract just the important bin\u001b[0m\u001b[0;34m\u001b[0m\u001b[0;34m\u001b[0m\u001b[0;34m\u001b[0m\u001b[0m\n\u001b[0;32m---> 14\u001b[0;31m     \u001b[0morientGT_batch\u001b[0m \u001b[0;34m=\u001b[0m \u001b[0morientGT_batch\u001b[0m\u001b[0;34m[\u001b[0m\u001b[0mtorch\u001b[0m\u001b[0;34m.\u001b[0m\u001b[0marange\u001b[0m\u001b[0;34m(\u001b[0m\u001b[0mbatch_size\u001b[0m\u001b[0;34m)\u001b[0m\u001b[0;34m,\u001b[0m \u001b[0mindexes\u001b[0m\u001b[0;34m]\u001b[0m\u001b[0;34m\u001b[0m\u001b[0;34m\u001b[0m\u001b[0m\n\u001b[0m\u001b[1;32m     15\u001b[0m     \u001b[0morient_batch\u001b[0m \u001b[0;34m=\u001b[0m \u001b[0morient_batch\u001b[0m\u001b[0;34m[\u001b[0m\u001b[0mtorch\u001b[0m\u001b[0;34m.\u001b[0m\u001b[0marange\u001b[0m\u001b[0;34m(\u001b[0m\u001b[0mbatch_size\u001b[0m\u001b[0;34m)\u001b[0m\u001b[0;34m,\u001b[0m \u001b[0mindexes\u001b[0m\u001b[0;34m]\u001b[0m\u001b[0;34m\u001b[0m\u001b[0;34m\u001b[0m\u001b[0m\n\u001b[1;32m     16\u001b[0m \u001b[0;34m\u001b[0m\u001b[0m\n",
      "\u001b[0;31mKeyboardInterrupt\u001b[0m: "
     ]
    }
   ],
   "source": [
    "for epoch in range(first_epoch+1, epochs+1):\n",
    "    curr_batch = 0\n",
    "    passes = 0\n",
    "    for local_batch, local_labels in generator:\n",
    "\n",
    "        truth_orient = local_labels['Orientation'].float().cuda()\n",
    "        truth_conf = local_labels['Confidence'].long().cuda()\n",
    "        truth_dim = local_labels['Dimensions'].float().cuda()\n",
    "\n",
    "        local_batch=local_batch.float().cuda()\n",
    "        [orient, conf, dim] = model(local_batch)\n",
    "\n",
    "        orient_loss = orient_loss_func(orient, truth_orient, truth_conf)\n",
    "        dim_loss = dim_loss_func(dim, truth_dim)\n",
    "\n",
    "        truth_conf = torch.max(truth_conf, dim=1)[1]\n",
    "        conf_loss = conf_loss_func(conf, truth_conf)\n",
    "\n",
    "        loss_theta = conf_loss + w * orient_loss\n",
    "        loss = alpha * dim_loss + loss_theta\n",
    "\n",
    "        opt_SGD.zero_grad()\n",
    "        loss.backward()\n",
    "        opt_SGD.step()\n",
    "\n",
    "\n",
    "        if passes % 20 == 0:\n",
    "            print(\"--- epoch %s | batch %s/%s --- [loss: %s]\" %(epoch, curr_batch, total_num_batches, loss.item()))\n",
    "            passes = 0\n",
    "\n",
    "        passes += 1\n",
    "        curr_batch += 1\n",
    "\n",
    "    # save after every 10 epochs\n",
    "    if epoch % 10 == 0:\n",
    "        name = model_path + 'epoch_%s.pkl' % epoch\n",
    "        print(\"====================\")\n",
    "        print (\"Done with epoch %s!\" % epoch)\n",
    "        print (\"Saving weights as %s ...\" % name)\n",
    "        torch.save({\n",
    "                'epoch': epoch,\n",
    "                'model_state_dict': model.state_dict(),\n",
    "                'optimizer_state_dict': opt_SGD.state_dict(),\n",
    "                'loss': loss\n",
    "                }, name)\n",
    "        print(\"====================\")"
   ]
  },
  {
   "cell_type": "code",
   "execution_count": null,
   "id": "4941580c",
   "metadata": {},
   "outputs": [],
   "source": []
  }
 ],
 "metadata": {
  "kernelspec": {
   "display_name": "Python 3",
   "language": "python",
   "name": "python3"
  },
  "language_info": {
   "codemirror_mode": {
    "name": "ipython",
    "version": 3
   },
   "file_extension": ".py",
   "mimetype": "text/x-python",
   "name": "python",
   "nbconvert_exporter": "python",
   "pygments_lexer": "ipython3",
   "version": "3.8.12"
  }
 },
 "nbformat": 4,
 "nbformat_minor": 5
}
